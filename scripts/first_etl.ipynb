{
 "cells": [
  {
   "cell_type": "code",
   "execution_count": 1,
   "metadata": {},
   "outputs": [],
   "source": [
    "# imports\n",
    "import os\n",
    "\n",
    "import findspark\n",
    "findspark.init()\n",
    "\n",
    "import pyspark\n",
    "from pyspark.sql import SparkSession\n",
    "from pyspark import SparkContext\n",
    "from pyspark.conf import SparkConf\n",
    "import pyspark.sql.functions as func\n",
    "\n",
    "import pandas as pd"
   ]
  },
  {
   "cell_type": "code",
   "execution_count": 2,
   "metadata": {},
   "outputs": [],
   "source": [
    "BUCKET_S3 = os.environ.get('BUCKET_S3','')\n",
    "AWS_ACCESS_KEY_ID = os.environ.get('AWS_ACCESS_KEY_ID','')\n",
    "AWS_SECRET_ACCESS_KEY = os.environ.get('AWS_SECRET_ACCESS_KEY','')"
   ]
  },
  {
   "cell_type": "code",
   "execution_count": 3,
   "metadata": {},
   "outputs": [],
   "source": [
    "path_categories = \"{}/data/categories.csv\".format(BUCKET_S3.replace('s3','s3a'))\n",
    "path_cities = \"{}/data/cities.csv\".format(BUCKET_S3.replace('s3','s3a'))\n",
    "path_groups = \"{}/data/groups.csv\".format(BUCKET_S3.replace('s3','s3a'))"
   ]
  },
  {
   "cell_type": "code",
   "execution_count": 4,
   "metadata": {},
   "outputs": [],
   "source": [
    "# create an spark session\n",
    "spark_conf = SparkConf().setAppName('my_etl')\n",
    "spark_conf.set('spark.jars.packages', 'org.apache.hadoop:hadoop-aws:2.7.0')\n",
    "spark = SparkSession.builder.config(conf=spark_conf).getOrCreate()\n",
    "\n",
    "sc = spark.sparkContext"
   ]
  },
  {
   "cell_type": "code",
   "execution_count": 5,
   "metadata": {},
   "outputs": [],
   "source": [
    "sc._jsc.hadoopConfiguration().set(\"fs.s3n.impl\", \"org.apache.hadoop.fs.s3native.NativeS3FileSystem\") \n",
    "sc._jsc.hadoopConfiguration().set(\"fs.s3n.multiobjectdelete.enable\",\"false\")\n",
    "\n",
    "sc._jsc.hadoopConfiguration().set(\"fs.s3n.awsAccessKeyId\", AWS_ACCESS_KEY_ID)\n",
    "sc._jsc.hadoopConfiguration().set(\"fs.s3n.awsSecretAccessKey\", AWS_SECRET_ACCESS_KEY)"
   ]
  },
  {
   "cell_type": "code",
   "execution_count": 6,
   "metadata": {},
   "outputs": [],
   "source": [
    "df_categories = spark.read.format(\"csv\")\\\n",
    "                            .option(\"header\", \"true\")\\\n",
    "                            .option(\"inferSchema\", \"true\")\\\n",
    "                            .load(path_categories)"
   ]
  },
  {
   "cell_type": "code",
   "execution_count": 7,
   "metadata": {},
   "outputs": [
    {
     "name": "stdout",
     "output_type": "stream",
     "text": [
      "root\n",
      " |-- category_id: integer (nullable = true)\n",
      " |-- category_name: string (nullable = true)\n",
      " |-- shortname: string (nullable = true)\n",
      " |-- sort_name: string (nullable = true)\n",
      "\n"
     ]
    }
   ],
   "source": [
    "df_categories.printSchema()"
   ]
  },
  {
   "cell_type": "code",
   "execution_count": 8,
   "metadata": {},
   "outputs": [],
   "source": [
    "df_cities = spark.read.format(\"csv\")\\\n",
    "                            .option(\"header\", \"true\")\\\n",
    "                            .option(\"inferSchema\", \"true\")\\\n",
    "                            .load(path_cities)"
   ]
  },
  {
   "cell_type": "code",
   "execution_count": 9,
   "metadata": {},
   "outputs": [
    {
     "name": "stdout",
     "output_type": "stream",
     "text": [
      "root\n",
      " |-- city: string (nullable = true)\n",
      " |-- city_id: integer (nullable = true)\n",
      " |-- country: string (nullable = true)\n",
      " |-- distance: double (nullable = true)\n",
      " |-- latitude: double (nullable = true)\n",
      " |-- localized_country_name: string (nullable = true)\n",
      " |-- longitude: double (nullable = true)\n",
      " |-- member_count: integer (nullable = true)\n",
      " |-- ranking: integer (nullable = true)\n",
      " |-- state: string (nullable = true)\n",
      " |-- zip: integer (nullable = true)\n",
      "\n"
     ]
    }
   ],
   "source": [
    "df_cities.printSchema()"
   ]
  },
  {
   "cell_type": "code",
   "execution_count": 10,
   "metadata": {},
   "outputs": [],
   "source": [
    "df_groups = spark.read.format(\"csv\")\\\n",
    "                            .option(\"header\", \"true\")\\\n",
    "                            .option(\"inferSchema\", \"true\")\\\n",
    "                            .load(path_groups)"
   ]
  },
  {
   "cell_type": "code",
   "execution_count": 11,
   "metadata": {},
   "outputs": [
    {
     "name": "stdout",
     "output_type": "stream",
     "text": [
      "root\n",
      " |-- group_id: integer (nullable = true)\n",
      " |-- category_id: integer (nullable = true)\n",
      " |-- category.name: string (nullable = true)\n",
      " |-- category.shortname: string (nullable = true)\n",
      " |-- city_id: integer (nullable = true)\n",
      " |-- city: string (nullable = true)\n",
      " |-- country: string (nullable = true)\n",
      " |-- created: timestamp (nullable = true)\n",
      " |-- description: string (nullable = true)\n",
      " |-- group_photo.base_url: string (nullable = true)\n",
      " |-- group_photo.highres_link: string (nullable = true)\n",
      " |-- group_photo.photo_id: integer (nullable = true)\n",
      " |-- group_photo.photo_link: string (nullable = true)\n",
      " |-- group_photo.thumb_link: string (nullable = true)\n",
      " |-- group_photo.type: string (nullable = true)\n",
      " |-- join_mode: string (nullable = true)\n",
      " |-- lat: double (nullable = true)\n",
      " |-- link: string (nullable = true)\n",
      " |-- lon: double (nullable = true)\n",
      " |-- members: integer (nullable = true)\n",
      " |-- group_name: string (nullable = true)\n",
      " |-- organizer.member_id: integer (nullable = true)\n",
      " |-- organizer.name: string (nullable = true)\n",
      " |-- organizer.photo.base_url: string (nullable = true)\n",
      " |-- organizer.photo.highres_link: string (nullable = true)\n",
      " |-- organizer.photo.photo_id: integer (nullable = true)\n",
      " |-- organizer.photo.photo_link: string (nullable = true)\n",
      " |-- organizer.photo.thumb_link: string (nullable = true)\n",
      " |-- organizer.photo.type: string (nullable = true)\n",
      " |-- rating: double (nullable = true)\n",
      " |-- state: string (nullable = true)\n",
      " |-- timezone: string (nullable = true)\n",
      " |-- urlname: string (nullable = true)\n",
      " |-- utc_offset: integer (nullable = true)\n",
      " |-- visibility: string (nullable = true)\n",
      " |-- who: string (nullable = true)\n",
      "\n"
     ]
    }
   ],
   "source": [
    "df_groups.printSchema()"
   ]
  },
  {
   "cell_type": "code",
   "execution_count": 12,
   "metadata": {},
   "outputs": [],
   "source": [
    "df_groups_city = df_groups.join(df_cities, [\"city_id\"], how=\"left_outer\")"
   ]
  },
  {
   "cell_type": "code",
   "execution_count": 13,
   "metadata": {},
   "outputs": [],
   "source": [
    "df_city_groups = df_groups.select('city','group_id')"
   ]
  },
  {
   "cell_type": "code",
   "execution_count": 14,
   "metadata": {},
   "outputs": [],
   "source": [
    "df_summary_city_groups = df_city_groups.groupBy('city').count()"
   ]
  },
  {
   "cell_type": "code",
   "execution_count": 23,
   "metadata": {},
   "outputs": [],
   "source": [
    "path_to_write = \"{}/output_data/summary_city_groups\".format(BUCKET_S3.replace('s3','s3a'))"
   ]
  },
  {
   "cell_type": "code",
   "execution_count": null,
   "metadata": {},
   "outputs": [],
   "source": [
    "df_summary_city_groups.write.parquet(path_to_write)"
   ]
  },
  {
   "cell_type": "code",
   "execution_count": null,
   "metadata": {},
   "outputs": [],
   "source": []
  },
  {
   "cell_type": "code",
   "execution_count": 15,
   "metadata": {},
   "outputs": [],
   "source": [
    "dfp_summary = df_summary_city_groups.toPandas()"
   ]
  },
  {
   "cell_type": "code",
   "execution_count": 16,
   "metadata": {},
   "outputs": [
    {
     "data": {
      "text/html": [
       "<div>\n",
       "<style scoped>\n",
       "    .dataframe tbody tr th:only-of-type {\n",
       "        vertical-align: middle;\n",
       "    }\n",
       "\n",
       "    .dataframe tbody tr th {\n",
       "        vertical-align: top;\n",
       "    }\n",
       "\n",
       "    .dataframe thead th {\n",
       "        text-align: right;\n",
       "    }\n",
       "</style>\n",
       "<table border=\"1\" class=\"dataframe\">\n",
       "  <thead>\n",
       "    <tr style=\"text-align: right;\">\n",
       "      <th></th>\n",
       "      <th>city</th>\n",
       "      <th>count</th>\n",
       "    </tr>\n",
       "  </thead>\n",
       "  <tbody>\n",
       "    <tr>\n",
       "      <th>8</th>\n",
       "      <td>New York</td>\n",
       "      <td>8565</td>\n",
       "    </tr>\n",
       "    <tr>\n",
       "      <th>1</th>\n",
       "      <td>San Francisco</td>\n",
       "      <td>4555</td>\n",
       "    </tr>\n",
       "    <tr>\n",
       "      <th>2</th>\n",
       "      <td>Chicago</td>\n",
       "      <td>3168</td>\n",
       "    </tr>\n",
       "    <tr>\n",
       "      <th>6</th>\n",
       "      <td>South San Francisco</td>\n",
       "      <td>19</td>\n",
       "    </tr>\n",
       "    <tr>\n",
       "      <th>4</th>\n",
       "      <td>West New York</td>\n",
       "      <td>11</td>\n",
       "    </tr>\n",
       "    <tr>\n",
       "      <th>3</th>\n",
       "      <td>Chicago Ridge</td>\n",
       "      <td>5</td>\n",
       "    </tr>\n",
       "    <tr>\n",
       "      <th>5</th>\n",
       "      <td>West Chicago</td>\n",
       "      <td>4</td>\n",
       "    </tr>\n",
       "    <tr>\n",
       "      <th>7</th>\n",
       "      <td>Chicago Heights</td>\n",
       "      <td>2</td>\n",
       "    </tr>\n",
       "    <tr>\n",
       "      <th>0</th>\n",
       "      <td>North Chicago</td>\n",
       "      <td>1</td>\n",
       "    </tr>\n",
       "  </tbody>\n",
       "</table>\n",
       "</div>"
      ],
      "text/plain": [
       "                  city  count\n",
       "8             New York   8565\n",
       "1        San Francisco   4555\n",
       "2              Chicago   3168\n",
       "6  South San Francisco     19\n",
       "4        West New York     11\n",
       "3        Chicago Ridge      5\n",
       "5         West Chicago      4\n",
       "7      Chicago Heights      2\n",
       "0        North Chicago      1"
      ]
     },
     "execution_count": 16,
     "metadata": {},
     "output_type": "execute_result"
    }
   ],
   "source": [
    "dfp_summary.sort_values('count', ascending=False)"
   ]
  },
  {
   "cell_type": "code",
   "execution_count": null,
   "metadata": {},
   "outputs": [],
   "source": [
    "dfp_suma"
   ]
  },
  {
   "cell_type": "code",
   "execution_count": null,
   "metadata": {},
   "outputs": [],
   "source": [
    "dfp_summary.to_csv(\"../output_data/summary_city_groups.csv\", index=False)"
   ]
  },
  {
   "cell_type": "code",
   "execution_count": null,
   "metadata": {},
   "outputs": [],
   "source": []
  }
 ],
 "metadata": {
  "kernelspec": {
   "display_name": "Python 3",
   "language": "python",
   "name": "python3"
  },
  "language_info": {
   "codemirror_mode": {
    "name": "ipython",
    "version": 3
   },
   "file_extension": ".py",
   "mimetype": "text/x-python",
   "name": "python",
   "nbconvert_exporter": "python",
   "pygments_lexer": "ipython3",
   "version": "3.7.3"
  }
 },
 "nbformat": 4,
 "nbformat_minor": 2
}
